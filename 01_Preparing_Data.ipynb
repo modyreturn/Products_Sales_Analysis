{
 "cells": [
  {
   "cell_type": "code",
   "execution_count": 35,
   "id": "a858edca",
   "metadata": {},
   "outputs": [
    {
     "data": {
      "application/vnd.microsoft.datawrangler.viewer.v0+json": {
       "columns": [
        {
         "name": "index",
         "rawType": "int64",
         "type": "integer"
        },
        {
         "name": "ORDERNUMBER",
         "rawType": "int64",
         "type": "integer"
        },
        {
         "name": "QUANTITYORDERED",
         "rawType": "int64",
         "type": "integer"
        },
        {
         "name": "PRICEEACH",
         "rawType": "float64",
         "type": "float"
        },
        {
         "name": "ORDERLINENUMBER",
         "rawType": "int64",
         "type": "integer"
        },
        {
         "name": "SALES",
         "rawType": "float64",
         "type": "float"
        },
        {
         "name": "ORDERDATE",
         "rawType": "object",
         "type": "string"
        },
        {
         "name": "STATUS",
         "rawType": "object",
         "type": "string"
        },
        {
         "name": "QTR_ID",
         "rawType": "int64",
         "type": "integer"
        },
        {
         "name": "MONTH_ID",
         "rawType": "int64",
         "type": "integer"
        },
        {
         "name": "YEAR_ID",
         "rawType": "int64",
         "type": "integer"
        },
        {
         "name": "PRODUCTLINE",
         "rawType": "object",
         "type": "string"
        },
        {
         "name": "MSRP",
         "rawType": "int64",
         "type": "integer"
        },
        {
         "name": "PRODUCTCODE",
         "rawType": "object",
         "type": "string"
        },
        {
         "name": "CUSTOMERNAME",
         "rawType": "object",
         "type": "string"
        },
        {
         "name": "PHONE",
         "rawType": "object",
         "type": "string"
        },
        {
         "name": "ADDRESSLINE1",
         "rawType": "object",
         "type": "string"
        },
        {
         "name": "ADDRESSLINE2",
         "rawType": "object",
         "type": "unknown"
        },
        {
         "name": "CITY",
         "rawType": "object",
         "type": "string"
        },
        {
         "name": "STATE",
         "rawType": "object",
         "type": "unknown"
        },
        {
         "name": "POSTALCODE",
         "rawType": "object",
         "type": "string"
        },
        {
         "name": "COUNTRY",
         "rawType": "object",
         "type": "string"
        },
        {
         "name": "TERRITORY",
         "rawType": "object",
         "type": "unknown"
        },
        {
         "name": "CONTACTLASTNAME",
         "rawType": "object",
         "type": "string"
        },
        {
         "name": "CONTACTFIRSTNAME",
         "rawType": "object",
         "type": "string"
        },
        {
         "name": "DEALSIZE",
         "rawType": "object",
         "type": "string"
        }
       ],
       "conversionMethod": "pd.DataFrame",
       "ref": "610335db-0492-4675-9053-654a0ec18e0b",
       "rows": [
        [
         "0",
         "10107",
         "30",
         "95.7",
         "2",
         "2871.0",
         "2/24/2003 0:00",
         "Shipped",
         "1",
         "2",
         "2003",
         "Motorcycles",
         "95",
         "S10_1678",
         "Land of Toys Inc.",
         "2125557818",
         "897 Long Airport Avenue",
         null,
         "NYC",
         "NY",
         "10022",
         "USA",
         null,
         "Yu",
         "Kwai",
         "Small"
        ],
        [
         "1",
         "10121",
         "34",
         "81.35",
         "5",
         "2765.9",
         "5/7/2003 0:00",
         "Shipped",
         "2",
         "5",
         "2003",
         "Motorcycles",
         "95",
         "S10_1678",
         "Reims Collectables",
         "26.47.1555",
         "59 rue de l'Abbaye",
         null,
         "Reims",
         null,
         "51100",
         "France",
         "EMEA",
         "Henriot",
         "Paul",
         "Small"
        ]
       ],
       "shape": {
        "columns": 25,
        "rows": 2
       }
      },
      "text/html": [
       "<div>\n",
       "<style scoped>\n",
       "    .dataframe tbody tr th:only-of-type {\n",
       "        vertical-align: middle;\n",
       "    }\n",
       "\n",
       "    .dataframe tbody tr th {\n",
       "        vertical-align: top;\n",
       "    }\n",
       "\n",
       "    .dataframe thead th {\n",
       "        text-align: right;\n",
       "    }\n",
       "</style>\n",
       "<table border=\"1\" class=\"dataframe\">\n",
       "  <thead>\n",
       "    <tr style=\"text-align: right;\">\n",
       "      <th></th>\n",
       "      <th>ORDERNUMBER</th>\n",
       "      <th>QUANTITYORDERED</th>\n",
       "      <th>PRICEEACH</th>\n",
       "      <th>ORDERLINENUMBER</th>\n",
       "      <th>SALES</th>\n",
       "      <th>ORDERDATE</th>\n",
       "      <th>STATUS</th>\n",
       "      <th>QTR_ID</th>\n",
       "      <th>MONTH_ID</th>\n",
       "      <th>YEAR_ID</th>\n",
       "      <th>...</th>\n",
       "      <th>ADDRESSLINE1</th>\n",
       "      <th>ADDRESSLINE2</th>\n",
       "      <th>CITY</th>\n",
       "      <th>STATE</th>\n",
       "      <th>POSTALCODE</th>\n",
       "      <th>COUNTRY</th>\n",
       "      <th>TERRITORY</th>\n",
       "      <th>CONTACTLASTNAME</th>\n",
       "      <th>CONTACTFIRSTNAME</th>\n",
       "      <th>DEALSIZE</th>\n",
       "    </tr>\n",
       "  </thead>\n",
       "  <tbody>\n",
       "    <tr>\n",
       "      <th>0</th>\n",
       "      <td>10107</td>\n",
       "      <td>30</td>\n",
       "      <td>95.70</td>\n",
       "      <td>2</td>\n",
       "      <td>2871.0</td>\n",
       "      <td>2/24/2003 0:00</td>\n",
       "      <td>Shipped</td>\n",
       "      <td>1</td>\n",
       "      <td>2</td>\n",
       "      <td>2003</td>\n",
       "      <td>...</td>\n",
       "      <td>897 Long Airport Avenue</td>\n",
       "      <td>NaN</td>\n",
       "      <td>NYC</td>\n",
       "      <td>NY</td>\n",
       "      <td>10022</td>\n",
       "      <td>USA</td>\n",
       "      <td>NaN</td>\n",
       "      <td>Yu</td>\n",
       "      <td>Kwai</td>\n",
       "      <td>Small</td>\n",
       "    </tr>\n",
       "    <tr>\n",
       "      <th>1</th>\n",
       "      <td>10121</td>\n",
       "      <td>34</td>\n",
       "      <td>81.35</td>\n",
       "      <td>5</td>\n",
       "      <td>2765.9</td>\n",
       "      <td>5/7/2003 0:00</td>\n",
       "      <td>Shipped</td>\n",
       "      <td>2</td>\n",
       "      <td>5</td>\n",
       "      <td>2003</td>\n",
       "      <td>...</td>\n",
       "      <td>59 rue de l'Abbaye</td>\n",
       "      <td>NaN</td>\n",
       "      <td>Reims</td>\n",
       "      <td>NaN</td>\n",
       "      <td>51100</td>\n",
       "      <td>France</td>\n",
       "      <td>EMEA</td>\n",
       "      <td>Henriot</td>\n",
       "      <td>Paul</td>\n",
       "      <td>Small</td>\n",
       "    </tr>\n",
       "  </tbody>\n",
       "</table>\n",
       "<p>2 rows × 25 columns</p>\n",
       "</div>"
      ],
      "text/plain": [
       "   ORDERNUMBER  QUANTITYORDERED  PRICEEACH  ORDERLINENUMBER   SALES  \\\n",
       "0        10107               30      95.70                2  2871.0   \n",
       "1        10121               34      81.35                5  2765.9   \n",
       "\n",
       "        ORDERDATE   STATUS  QTR_ID  MONTH_ID  YEAR_ID  ...  \\\n",
       "0  2/24/2003 0:00  Shipped       1         2     2003  ...   \n",
       "1   5/7/2003 0:00  Shipped       2         5     2003  ...   \n",
       "\n",
       "              ADDRESSLINE1  ADDRESSLINE2   CITY STATE POSTALCODE COUNTRY  \\\n",
       "0  897 Long Airport Avenue           NaN    NYC    NY      10022     USA   \n",
       "1       59 rue de l'Abbaye           NaN  Reims   NaN      51100  France   \n",
       "\n",
       "  TERRITORY CONTACTLASTNAME CONTACTFIRSTNAME DEALSIZE  \n",
       "0       NaN              Yu             Kwai    Small  \n",
       "1      EMEA         Henriot             Paul    Small  \n",
       "\n",
       "[2 rows x 25 columns]"
      ]
     },
     "execution_count": 35,
     "metadata": {},
     "output_type": "execute_result"
    }
   ],
   "source": [
    "import pandas as pd\n",
    "import numpy as np\n",
    "import matplotlib.pyplot as plt\n",
    "import seaborn as sns\n",
    "from matplotlib.ticker import FuncFormatter\n",
    "\n",
    "import warnings\n",
    "warnings.filterwarnings('ignore')\n",
    "\n",
    "df = pd.read_csv(r'C:\\Users\\Mohamed Fawzi\\Desktop\\Product Sales Analysis\\sales_data_sample.csv', encoding='ISO-8859-1')\n",
    "\n",
    "df.head(2)"
   ]
  },
  {
   "cell_type": "markdown",
   "id": "6371420d",
   "metadata": {},
   "source": [
    "## Inspecting & Preparing Data"
   ]
  },
  {
   "cell_type": "code",
   "execution_count": 36,
   "id": "effac8a5",
   "metadata": {},
   "outputs": [
    {
     "name": "stdout",
     "output_type": "stream",
     "text": [
      "<class 'pandas.core.frame.DataFrame'>\n",
      "RangeIndex: 2823 entries, 0 to 2822\n",
      "Data columns (total 25 columns):\n",
      " #   Column            Non-Null Count  Dtype  \n",
      "---  ------            --------------  -----  \n",
      " 0   ORDERNUMBER       2823 non-null   int64  \n",
      " 1   QUANTITYORDERED   2823 non-null   int64  \n",
      " 2   PRICEEACH         2823 non-null   float64\n",
      " 3   ORDERLINENUMBER   2823 non-null   int64  \n",
      " 4   SALES             2823 non-null   float64\n",
      " 5   ORDERDATE         2823 non-null   object \n",
      " 6   STATUS            2823 non-null   object \n",
      " 7   QTR_ID            2823 non-null   int64  \n",
      " 8   MONTH_ID          2823 non-null   int64  \n",
      " 9   YEAR_ID           2823 non-null   int64  \n",
      " 10  PRODUCTLINE       2823 non-null   object \n",
      " 11  MSRP              2823 non-null   int64  \n",
      " 12  PRODUCTCODE       2823 non-null   object \n",
      " 13  CUSTOMERNAME      2823 non-null   object \n",
      " 14  PHONE             2823 non-null   object \n",
      " 15  ADDRESSLINE1      2823 non-null   object \n",
      " 16  ADDRESSLINE2      302 non-null    object \n",
      " 17  CITY              2823 non-null   object \n",
      " 18  STATE             1337 non-null   object \n",
      " 19  POSTALCODE        2747 non-null   object \n",
      " 20  COUNTRY           2823 non-null   object \n",
      " 21  TERRITORY         1749 non-null   object \n",
      " 22  CONTACTLASTNAME   2823 non-null   object \n",
      " 23  CONTACTFIRSTNAME  2823 non-null   object \n",
      " 24  DEALSIZE          2823 non-null   object \n",
      "dtypes: float64(2), int64(7), object(16)\n",
      "memory usage: 551.5+ KB\n"
     ]
    }
   ],
   "source": [
    "df.info()"
   ]
  },
  {
   "cell_type": "code",
   "execution_count": 37,
   "id": "85122787",
   "metadata": {},
   "outputs": [
    {
     "data": {
      "application/vnd.microsoft.datawrangler.viewer.v0+json": {
       "columns": [
        {
         "name": "index",
         "rawType": "object",
         "type": "string"
        },
        {
         "name": "ORDERNUMBER",
         "rawType": "float64",
         "type": "float"
        },
        {
         "name": "QUANTITYORDERED",
         "rawType": "float64",
         "type": "float"
        },
        {
         "name": "PRICEEACH",
         "rawType": "float64",
         "type": "float"
        },
        {
         "name": "ORDERLINENUMBER",
         "rawType": "float64",
         "type": "float"
        },
        {
         "name": "SALES",
         "rawType": "float64",
         "type": "float"
        },
        {
         "name": "QTR_ID",
         "rawType": "float64",
         "type": "float"
        },
        {
         "name": "MONTH_ID",
         "rawType": "float64",
         "type": "float"
        },
        {
         "name": "YEAR_ID",
         "rawType": "float64",
         "type": "float"
        },
        {
         "name": "MSRP",
         "rawType": "float64",
         "type": "float"
        }
       ],
       "conversionMethod": "pd.DataFrame",
       "ref": "d2832a33-80a1-447c-8bce-6c8947cda799",
       "rows": [
        [
         "count",
         "2823.0",
         "2823.0",
         "2823.0",
         "2823.0",
         "2823.0",
         "2823.0",
         "2823.0",
         "2823.0",
         "2823.0"
        ],
        [
         "mean",
         "10258.725115125753",
         "35.09280906836698",
         "83.65854410201914",
         "6.466170740347148",
         "3553.889071909316",
         "2.7176762309599716",
         "7.0924548352816155",
         "2003.8150903294368",
         "100.71555083244775"
        ],
        [
         "std",
         "92.08547759571952",
         "9.74144273706961",
         "20.174276527840703",
         "4.225840964690942",
         "1841.8651057401805",
         "1.203878088001747",
         "3.656633307661775",
         "0.6996701541300782",
         "40.187911677203104"
        ],
        [
         "min",
         "10100.0",
         "6.0",
         "26.88",
         "1.0",
         "482.13",
         "1.0",
         "1.0",
         "2003.0",
         "33.0"
        ],
        [
         "25%",
         "10180.0",
         "27.0",
         "68.86",
         "3.0",
         "2203.4300000000003",
         "2.0",
         "4.0",
         "2003.0",
         "68.0"
        ],
        [
         "50%",
         "10262.0",
         "35.0",
         "95.7",
         "6.0",
         "3184.8",
         "3.0",
         "8.0",
         "2004.0",
         "99.0"
        ],
        [
         "75%",
         "10333.5",
         "43.0",
         "100.0",
         "9.0",
         "4508.0",
         "4.0",
         "11.0",
         "2004.0",
         "124.0"
        ],
        [
         "max",
         "10425.0",
         "97.0",
         "100.0",
         "18.0",
         "14082.8",
         "4.0",
         "12.0",
         "2005.0",
         "214.0"
        ]
       ],
       "shape": {
        "columns": 9,
        "rows": 8
       }
      },
      "text/html": [
       "<div>\n",
       "<style scoped>\n",
       "    .dataframe tbody tr th:only-of-type {\n",
       "        vertical-align: middle;\n",
       "    }\n",
       "\n",
       "    .dataframe tbody tr th {\n",
       "        vertical-align: top;\n",
       "    }\n",
       "\n",
       "    .dataframe thead th {\n",
       "        text-align: right;\n",
       "    }\n",
       "</style>\n",
       "<table border=\"1\" class=\"dataframe\">\n",
       "  <thead>\n",
       "    <tr style=\"text-align: right;\">\n",
       "      <th></th>\n",
       "      <th>ORDERNUMBER</th>\n",
       "      <th>QUANTITYORDERED</th>\n",
       "      <th>PRICEEACH</th>\n",
       "      <th>ORDERLINENUMBER</th>\n",
       "      <th>SALES</th>\n",
       "      <th>QTR_ID</th>\n",
       "      <th>MONTH_ID</th>\n",
       "      <th>YEAR_ID</th>\n",
       "      <th>MSRP</th>\n",
       "    </tr>\n",
       "  </thead>\n",
       "  <tbody>\n",
       "    <tr>\n",
       "      <th>count</th>\n",
       "      <td>2823.000000</td>\n",
       "      <td>2823.000000</td>\n",
       "      <td>2823.000000</td>\n",
       "      <td>2823.000000</td>\n",
       "      <td>2823.000000</td>\n",
       "      <td>2823.000000</td>\n",
       "      <td>2823.000000</td>\n",
       "      <td>2823.00000</td>\n",
       "      <td>2823.000000</td>\n",
       "    </tr>\n",
       "    <tr>\n",
       "      <th>mean</th>\n",
       "      <td>10258.725115</td>\n",
       "      <td>35.092809</td>\n",
       "      <td>83.658544</td>\n",
       "      <td>6.466171</td>\n",
       "      <td>3553.889072</td>\n",
       "      <td>2.717676</td>\n",
       "      <td>7.092455</td>\n",
       "      <td>2003.81509</td>\n",
       "      <td>100.715551</td>\n",
       "    </tr>\n",
       "    <tr>\n",
       "      <th>std</th>\n",
       "      <td>92.085478</td>\n",
       "      <td>9.741443</td>\n",
       "      <td>20.174277</td>\n",
       "      <td>4.225841</td>\n",
       "      <td>1841.865106</td>\n",
       "      <td>1.203878</td>\n",
       "      <td>3.656633</td>\n",
       "      <td>0.69967</td>\n",
       "      <td>40.187912</td>\n",
       "    </tr>\n",
       "    <tr>\n",
       "      <th>min</th>\n",
       "      <td>10100.000000</td>\n",
       "      <td>6.000000</td>\n",
       "      <td>26.880000</td>\n",
       "      <td>1.000000</td>\n",
       "      <td>482.130000</td>\n",
       "      <td>1.000000</td>\n",
       "      <td>1.000000</td>\n",
       "      <td>2003.00000</td>\n",
       "      <td>33.000000</td>\n",
       "    </tr>\n",
       "    <tr>\n",
       "      <th>25%</th>\n",
       "      <td>10180.000000</td>\n",
       "      <td>27.000000</td>\n",
       "      <td>68.860000</td>\n",
       "      <td>3.000000</td>\n",
       "      <td>2203.430000</td>\n",
       "      <td>2.000000</td>\n",
       "      <td>4.000000</td>\n",
       "      <td>2003.00000</td>\n",
       "      <td>68.000000</td>\n",
       "    </tr>\n",
       "    <tr>\n",
       "      <th>50%</th>\n",
       "      <td>10262.000000</td>\n",
       "      <td>35.000000</td>\n",
       "      <td>95.700000</td>\n",
       "      <td>6.000000</td>\n",
       "      <td>3184.800000</td>\n",
       "      <td>3.000000</td>\n",
       "      <td>8.000000</td>\n",
       "      <td>2004.00000</td>\n",
       "      <td>99.000000</td>\n",
       "    </tr>\n",
       "    <tr>\n",
       "      <th>75%</th>\n",
       "      <td>10333.500000</td>\n",
       "      <td>43.000000</td>\n",
       "      <td>100.000000</td>\n",
       "      <td>9.000000</td>\n",
       "      <td>4508.000000</td>\n",
       "      <td>4.000000</td>\n",
       "      <td>11.000000</td>\n",
       "      <td>2004.00000</td>\n",
       "      <td>124.000000</td>\n",
       "    </tr>\n",
       "    <tr>\n",
       "      <th>max</th>\n",
       "      <td>10425.000000</td>\n",
       "      <td>97.000000</td>\n",
       "      <td>100.000000</td>\n",
       "      <td>18.000000</td>\n",
       "      <td>14082.800000</td>\n",
       "      <td>4.000000</td>\n",
       "      <td>12.000000</td>\n",
       "      <td>2005.00000</td>\n",
       "      <td>214.000000</td>\n",
       "    </tr>\n",
       "  </tbody>\n",
       "</table>\n",
       "</div>"
      ],
      "text/plain": [
       "        ORDERNUMBER  QUANTITYORDERED    PRICEEACH  ORDERLINENUMBER  \\\n",
       "count   2823.000000      2823.000000  2823.000000      2823.000000   \n",
       "mean   10258.725115        35.092809    83.658544         6.466171   \n",
       "std       92.085478         9.741443    20.174277         4.225841   \n",
       "min    10100.000000         6.000000    26.880000         1.000000   \n",
       "25%    10180.000000        27.000000    68.860000         3.000000   \n",
       "50%    10262.000000        35.000000    95.700000         6.000000   \n",
       "75%    10333.500000        43.000000   100.000000         9.000000   \n",
       "max    10425.000000        97.000000   100.000000        18.000000   \n",
       "\n",
       "              SALES       QTR_ID     MONTH_ID     YEAR_ID         MSRP  \n",
       "count   2823.000000  2823.000000  2823.000000  2823.00000  2823.000000  \n",
       "mean    3553.889072     2.717676     7.092455  2003.81509   100.715551  \n",
       "std     1841.865106     1.203878     3.656633     0.69967    40.187912  \n",
       "min      482.130000     1.000000     1.000000  2003.00000    33.000000  \n",
       "25%     2203.430000     2.000000     4.000000  2003.00000    68.000000  \n",
       "50%     3184.800000     3.000000     8.000000  2004.00000    99.000000  \n",
       "75%     4508.000000     4.000000    11.000000  2004.00000   124.000000  \n",
       "max    14082.800000     4.000000    12.000000  2005.00000   214.000000  "
      ]
     },
     "execution_count": 37,
     "metadata": {},
     "output_type": "execute_result"
    }
   ],
   "source": [
    "df.describe()"
   ]
  },
  {
   "cell_type": "code",
   "execution_count": 38,
   "id": "bec9f0c9",
   "metadata": {},
   "outputs": [
    {
     "data": {
      "text/plain": [
       "Index(['ordernumber', 'quantityordered', 'priceeach', 'orderlinenumber',\n",
       "       'sales', 'orderdate', 'status', 'qtr_id', 'month_id', 'year_id',\n",
       "       'productline', 'msrp', 'productcode', 'customername', 'phone',\n",
       "       'addressline1', 'addressline2', 'city', 'state', 'postalcode',\n",
       "       'country', 'territory', 'contactlastname', 'contactfirstname',\n",
       "       'dealsize'],\n",
       "      dtype='object')"
      ]
     },
     "execution_count": 38,
     "metadata": {},
     "output_type": "execute_result"
    }
   ],
   "source": [
    "# I will rename the columns to be lowercase for easier access\n",
    "df.columns = df.columns.str.lower()\n",
    "df.columns"
   ]
  },
  {
   "cell_type": "code",
   "execution_count": 39,
   "id": "da4fb626",
   "metadata": {},
   "outputs": [
    {
     "data": {
      "text/plain": [
       "ordernumber            0\n",
       "quantityordered        0\n",
       "priceeach              0\n",
       "orderlinenumber        0\n",
       "sales                  0\n",
       "orderdate              0\n",
       "status                 0\n",
       "qtr_id                 0\n",
       "month_id               0\n",
       "year_id                0\n",
       "productline            0\n",
       "msrp                   0\n",
       "productcode            0\n",
       "customername           0\n",
       "phone                  0\n",
       "addressline1           0\n",
       "addressline2        2521\n",
       "city                   0\n",
       "state               1486\n",
       "postalcode            76\n",
       "country                0\n",
       "territory           1074\n",
       "contactlastname        0\n",
       "contactfirstname       0\n",
       "dealsize               0\n",
       "dtype: int64"
      ]
     },
     "execution_count": 39,
     "metadata": {},
     "output_type": "execute_result"
    }
   ],
   "source": [
    "# Check for missing values\n",
    "df.isnull().sum()"
   ]
  },
  {
   "cell_type": "markdown",
   "id": "2f814eb2",
   "metadata": {},
   "source": [
    "-   I noticed that the territory column missing values based on the country column are for USA and Canada. To handle these missing values we're going to map territory column based on the country column."
   ]
  },
  {
   "cell_type": "code",
   "execution_count": 44,
   "id": "5e87d357",
   "metadata": {},
   "outputs": [],
   "source": [
    "# define the mapping of countries to territories\n",
    "territory_mapping = {\n",
    "    \"USA\": \"North America\",\n",
    "    \"Spain\": \"EMEA\",\n",
    "    \"France\": \"EMEA\",\n",
    "    \"Australia\": \"APAC\",\n",
    "    \"UK\": \"EMEA\",\n",
    "    \"Italy\": \"EMEA\",\n",
    "    \"Finland\": \"EMEA\",\n",
    "    \"Norway\": \"EMEA\",\n",
    "    \"Singapore\": \"APAC\",\n",
    "    \"Canada\": \"North America\",\n",
    "    \"Denmark\": \"EMEA\",\n",
    "    \"Germany\": \"EMEA\",\n",
    "    \"Sweden\": \"EMEA\",\n",
    "    \"Austria\": \"EMEA\",\n",
    "    \"Japan\": \"Japan\",\n",
    "    \"Belgium\": \"EMEA\",\n",
    "    \"Switzerland\": \"EMEA\",\n",
    "    \"Philippines\": \"APAC\",\n",
    "    \"Ireland\": \"EMEA\"\n",
    "}\n",
    "\n",
    "# replace missing values in 'territory' column based on 'country'\n",
    "df['territory'] = df['country'].map(territory_mapping)\n",
    "\n",
    "#df.isna().sum()"
   ]
  },
  {
   "cell_type": "code",
   "execution_count": 48,
   "id": "5128d6b4",
   "metadata": {},
   "outputs": [],
   "source": [
    "# also I will replace the missing values in state column with 'Unknown'\n",
    "df['state'].fillna('Unknown', inplace=True)\n",
    "# and I will replace the missing values in postal code column with '00000'\n",
    "df['postalcode'].fillna('00000', inplace=True)"
   ]
  },
  {
   "cell_type": "code",
   "execution_count": 49,
   "id": "58e8e0e8",
   "metadata": {},
   "outputs": [
    {
     "data": {
      "text/plain": [
       "ordernumber         0\n",
       "quantityordered     0\n",
       "priceeach           0\n",
       "orderlinenumber     0\n",
       "sales               0\n",
       "orderdate           0\n",
       "status              0\n",
       "qtr_id              0\n",
       "month_id            0\n",
       "year_id             0\n",
       "productline         0\n",
       "msrp                0\n",
       "productcode         0\n",
       "customername        0\n",
       "city                0\n",
       "state               0\n",
       "postalcode          0\n",
       "country             0\n",
       "territory           0\n",
       "contactlastname     0\n",
       "contactfirstname    0\n",
       "dealsize            0\n",
       "month               0\n",
       "dtype: int64"
      ]
     },
     "execution_count": 49,
     "metadata": {},
     "output_type": "execute_result"
    }
   ],
   "source": [
    "df.isna().sum()"
   ]
  },
  {
   "cell_type": "code",
   "execution_count": 50,
   "id": "a4b00e8f",
   "metadata": {},
   "outputs": [
    {
     "data": {
      "text/plain": [
       "0"
      ]
     },
     "execution_count": 50,
     "metadata": {},
     "output_type": "execute_result"
    }
   ],
   "source": [
    "# check for duplicates\n",
    "df.duplicated().sum()"
   ]
  },
  {
   "cell_type": "code",
   "execution_count": null,
   "id": "9e45b519",
   "metadata": {},
   "outputs": [],
   "source": [
    "# drop columns that are not needed for analysis\n",
    "columns_to_drop = ['phone', 'addressline1', 'addressline2', ]\n",
    "df.drop(columns=columns_to_drop, inplace=True)"
   ]
  },
  {
   "cell_type": "code",
   "execution_count": 51,
   "id": "49762a44",
   "metadata": {},
   "outputs": [],
   "source": [
    "# converting the order date to datetime\n",
    "df['orderdate'] = pd.to_datetime(df['orderdate'])\n",
    "# then I will extract the name of the month \n",
    "df['month'] = df['orderdate'].dt.month_name()"
   ]
  },
  {
   "cell_type": "code",
   "execution_count": 52,
   "id": "b87df2eb",
   "metadata": {},
   "outputs": [
    {
     "name": "stdout",
     "output_type": "stream",
     "text": [
      "<class 'pandas.core.frame.DataFrame'>\n",
      "RangeIndex: 2823 entries, 0 to 2822\n",
      "Data columns (total 23 columns):\n",
      " #   Column            Non-Null Count  Dtype         \n",
      "---  ------            --------------  -----         \n",
      " 0   ordernumber       2823 non-null   int64         \n",
      " 1   quantityordered   2823 non-null   int64         \n",
      " 2   priceeach         2823 non-null   float64       \n",
      " 3   orderlinenumber   2823 non-null   int64         \n",
      " 4   sales             2823 non-null   float64       \n",
      " 5   orderdate         2823 non-null   datetime64[ns]\n",
      " 6   status            2823 non-null   object        \n",
      " 7   qtr_id            2823 non-null   int64         \n",
      " 8   month_id          2823 non-null   int64         \n",
      " 9   year_id           2823 non-null   int64         \n",
      " 10  productline       2823 non-null   object        \n",
      " 11  msrp              2823 non-null   int64         \n",
      " 12  productcode       2823 non-null   object        \n",
      " 13  customername      2823 non-null   object        \n",
      " 14  city              2823 non-null   object        \n",
      " 15  state             2823 non-null   object        \n",
      " 16  postalcode        2823 non-null   object        \n",
      " 17  country           2823 non-null   object        \n",
      " 18  territory         2823 non-null   object        \n",
      " 19  contactlastname   2823 non-null   object        \n",
      " 20  contactfirstname  2823 non-null   object        \n",
      " 21  dealsize          2823 non-null   object        \n",
      " 22  month             2823 non-null   object        \n",
      "dtypes: datetime64[ns](1), float64(2), int64(7), object(13)\n",
      "memory usage: 507.4+ KB\n"
     ]
    }
   ],
   "source": [
    "df.info()"
   ]
  },
  {
   "cell_type": "code",
   "execution_count": null,
   "id": "c878437f",
   "metadata": {},
   "outputs": [],
   "source": [
    "#df.to_csv(r'C:\\Users\\Mohamed Fawzi\\Desktop\\Product Sales Analysis\\sales_data_cleaned.csv', index=False)"
   ]
  },
  {
   "cell_type": "markdown",
   "id": "3ac62d8d",
   "metadata": {},
   "source": [
    "## Question to Answer:\n",
    "1. Which months have the highest and lowest sales?\n",
    "2. What is the quarterly and yearly trend in sales?\n",
    "3. Is there a seasonal pattern in sales?\n",
    "4. Which product lines generate the most revenue?\n",
    "5. Is there a relationship between unit price and quantity ordered?\n",
    "6. Who are the top-performing customers?\n",
    "7. How frequently do customers place orders?\n",
    "8. Which countries contribute the most to sales?\n",
    "9. How do sales vary by territory?\n",
    "10. What is the deal size distribution across territories?\n",
    "11. What percentage of orders are shipped successfully?\n",
    "12. How much revenue is tied up in at-risk orders?\n",
    "13. What factors most influence total sales?"
   ]
  }
 ],
 "metadata": {
  "kernelspec": {
   "display_name": "data_projects",
   "language": "python",
   "name": "python3"
  },
  "language_info": {
   "codemirror_mode": {
    "name": "ipython",
    "version": 3
   },
   "file_extension": ".py",
   "mimetype": "text/x-python",
   "name": "python",
   "nbconvert_exporter": "python",
   "pygments_lexer": "ipython3",
   "version": "3.12.3"
  }
 },
 "nbformat": 4,
 "nbformat_minor": 5
}
