{
 "cells": [
  {
   "cell_type": "code",
   "execution_count": 1,
   "id": "a858edca",
   "metadata": {},
   "outputs": [
    {
     "data": {
      "application/vnd.microsoft.datawrangler.viewer.v0+json": {
       "columns": [
        {
         "name": "index",
         "rawType": "int64",
         "type": "integer"
        },
        {
         "name": "ordernumber",
         "rawType": "int64",
         "type": "integer"
        },
        {
         "name": "quantityordered",
         "rawType": "int64",
         "type": "integer"
        },
        {
         "name": "priceeach",
         "rawType": "float64",
         "type": "float"
        },
        {
         "name": "orderlinenumber",
         "rawType": "int64",
         "type": "integer"
        },
        {
         "name": "sales",
         "rawType": "float64",
         "type": "float"
        },
        {
         "name": "orderdate",
         "rawType": "object",
         "type": "string"
        },
        {
         "name": "status",
         "rawType": "object",
         "type": "string"
        },
        {
         "name": "qtr_id",
         "rawType": "int64",
         "type": "integer"
        },
        {
         "name": "month_id",
         "rawType": "int64",
         "type": "integer"
        },
        {
         "name": "year_id",
         "rawType": "int64",
         "type": "integer"
        },
        {
         "name": "productline",
         "rawType": "object",
         "type": "string"
        },
        {
         "name": "msrp",
         "rawType": "int64",
         "type": "integer"
        },
        {
         "name": "productcode",
         "rawType": "object",
         "type": "string"
        },
        {
         "name": "customername",
         "rawType": "object",
         "type": "string"
        },
        {
         "name": "city",
         "rawType": "object",
         "type": "string"
        },
        {
         "name": "state",
         "rawType": "object",
         "type": "string"
        },
        {
         "name": "postalcode",
         "rawType": "object",
         "type": "string"
        },
        {
         "name": "country",
         "rawType": "object",
         "type": "string"
        },
        {
         "name": "territory",
         "rawType": "object",
         "type": "string"
        },
        {
         "name": "contactlastname",
         "rawType": "object",
         "type": "string"
        },
        {
         "name": "contactfirstname",
         "rawType": "object",
         "type": "string"
        },
        {
         "name": "dealsize",
         "rawType": "object",
         "type": "string"
        },
        {
         "name": "month",
         "rawType": "object",
         "type": "string"
        }
       ],
       "conversionMethod": "pd.DataFrame",
       "ref": "d98b7f13-f180-4801-99a6-998bb2de3d26",
       "rows": [
        [
         "0",
         "10107",
         "30",
         "95.7",
         "2",
         "2871.0",
         "2003-02-24",
         "Shipped",
         "1",
         "2",
         "2003",
         "Motorcycles",
         "95",
         "S10_1678",
         "Land of Toys Inc.",
         "NYC",
         "NY",
         "10022",
         "USA",
         "North America",
         "Yu",
         "Kwai",
         "Small",
         "February"
        ],
        [
         "1",
         "10121",
         "34",
         "81.35",
         "5",
         "2765.9",
         "2003-05-07",
         "Shipped",
         "2",
         "5",
         "2003",
         "Motorcycles",
         "95",
         "S10_1678",
         "Reims Collectables",
         "Reims",
         "Unknown",
         "51100",
         "France",
         "EMEA",
         "Henriot",
         "Paul",
         "Small",
         "May"
        ]
       ],
       "shape": {
        "columns": 23,
        "rows": 2
       }
      },
      "text/html": [
       "<div>\n",
       "<style scoped>\n",
       "    .dataframe tbody tr th:only-of-type {\n",
       "        vertical-align: middle;\n",
       "    }\n",
       "\n",
       "    .dataframe tbody tr th {\n",
       "        vertical-align: top;\n",
       "    }\n",
       "\n",
       "    .dataframe thead th {\n",
       "        text-align: right;\n",
       "    }\n",
       "</style>\n",
       "<table border=\"1\" class=\"dataframe\">\n",
       "  <thead>\n",
       "    <tr style=\"text-align: right;\">\n",
       "      <th></th>\n",
       "      <th>ordernumber</th>\n",
       "      <th>quantityordered</th>\n",
       "      <th>priceeach</th>\n",
       "      <th>orderlinenumber</th>\n",
       "      <th>sales</th>\n",
       "      <th>orderdate</th>\n",
       "      <th>status</th>\n",
       "      <th>qtr_id</th>\n",
       "      <th>month_id</th>\n",
       "      <th>year_id</th>\n",
       "      <th>...</th>\n",
       "      <th>customername</th>\n",
       "      <th>city</th>\n",
       "      <th>state</th>\n",
       "      <th>postalcode</th>\n",
       "      <th>country</th>\n",
       "      <th>territory</th>\n",
       "      <th>contactlastname</th>\n",
       "      <th>contactfirstname</th>\n",
       "      <th>dealsize</th>\n",
       "      <th>month</th>\n",
       "    </tr>\n",
       "  </thead>\n",
       "  <tbody>\n",
       "    <tr>\n",
       "      <th>0</th>\n",
       "      <td>10107</td>\n",
       "      <td>30</td>\n",
       "      <td>95.70</td>\n",
       "      <td>2</td>\n",
       "      <td>2871.0</td>\n",
       "      <td>2003-02-24</td>\n",
       "      <td>Shipped</td>\n",
       "      <td>1</td>\n",
       "      <td>2</td>\n",
       "      <td>2003</td>\n",
       "      <td>...</td>\n",
       "      <td>Land of Toys Inc.</td>\n",
       "      <td>NYC</td>\n",
       "      <td>NY</td>\n",
       "      <td>10022</td>\n",
       "      <td>USA</td>\n",
       "      <td>North America</td>\n",
       "      <td>Yu</td>\n",
       "      <td>Kwai</td>\n",
       "      <td>Small</td>\n",
       "      <td>February</td>\n",
       "    </tr>\n",
       "    <tr>\n",
       "      <th>1</th>\n",
       "      <td>10121</td>\n",
       "      <td>34</td>\n",
       "      <td>81.35</td>\n",
       "      <td>5</td>\n",
       "      <td>2765.9</td>\n",
       "      <td>2003-05-07</td>\n",
       "      <td>Shipped</td>\n",
       "      <td>2</td>\n",
       "      <td>5</td>\n",
       "      <td>2003</td>\n",
       "      <td>...</td>\n",
       "      <td>Reims Collectables</td>\n",
       "      <td>Reims</td>\n",
       "      <td>Unknown</td>\n",
       "      <td>51100</td>\n",
       "      <td>France</td>\n",
       "      <td>EMEA</td>\n",
       "      <td>Henriot</td>\n",
       "      <td>Paul</td>\n",
       "      <td>Small</td>\n",
       "      <td>May</td>\n",
       "    </tr>\n",
       "  </tbody>\n",
       "</table>\n",
       "<p>2 rows × 23 columns</p>\n",
       "</div>"
      ],
      "text/plain": [
       "   ordernumber  quantityordered  priceeach  orderlinenumber   sales  \\\n",
       "0        10107               30      95.70                2  2871.0   \n",
       "1        10121               34      81.35                5  2765.9   \n",
       "\n",
       "    orderdate   status  qtr_id  month_id  year_id  ...        customername  \\\n",
       "0  2003-02-24  Shipped       1         2     2003  ...   Land of Toys Inc.   \n",
       "1  2003-05-07  Shipped       2         5     2003  ...  Reims Collectables   \n",
       "\n",
       "    city    state postalcode country      territory contactlastname  \\\n",
       "0    NYC       NY      10022     USA  North America              Yu   \n",
       "1  Reims  Unknown      51100  France           EMEA         Henriot   \n",
       "\n",
       "  contactfirstname dealsize     month  \n",
       "0             Kwai    Small  February  \n",
       "1             Paul    Small       May  \n",
       "\n",
       "[2 rows x 23 columns]"
      ]
     },
     "execution_count": 1,
     "metadata": {},
     "output_type": "execute_result"
    }
   ],
   "source": [
    "import pandas as pd\n",
    "import numpy as np\n",
    "import matplotlib.pyplot as plt\n",
    "import seaborn as sns\n",
    "from matplotlib.ticker import FuncFormatter\n",
    "\n",
    "import warnings\n",
    "warnings.filterwarnings('ignore')\n",
    "\n",
    "df = pd.read_csv(r'C:\\Users\\Mohamed Fawzi\\Desktop\\Product Sales Analysis\\sales_data_cleaned.csv')\n",
    "\n",
    "df.head(2)"
   ]
  },
  {
   "cell_type": "code",
   "execution_count": 2,
   "id": "e0bf5bcb",
   "metadata": {},
   "outputs": [],
   "source": [
    "df['orderdate'] = pd.to_datetime(df['orderdate'])\n",
    "#df.info()"
   ]
  },
  {
   "cell_type": "markdown",
   "id": "150d72ff",
   "metadata": {},
   "source": [
    "-   We'll analyze **Top Customer** by **Sales**"
   ]
  },
  {
   "cell_type": "code",
   "execution_count": 6,
   "id": "fef53443",
   "metadata": {},
   "outputs": [
    {
     "data": {
      "image/png": "[encoded data removed]",
      "text/plain": [
       "<Figure size 800x400 with 1 Axes>"
      ]
     },
     "metadata": {},
     "output_type": "display_data"
    }
   ],
   "source": [
    "# top 10 customer by sales\n",
    "top_customer = df.groupby('customername')['sales'].sum().reset_index().sort_values(by='sales', ascending=False).head(10)\n",
    "\n",
    "plt.figure(figsize=(8, 4))\n",
    "sns.barplot(\n",
    "    data=top_customer,\n",
    "    x='sales',\n",
    "    y='customername',\n",
    "    palette='Blues_r',\n",
    "    edgecolor='black'\n",
    ")\n",
    "def currency(x, pos):\n",
    "    if x >= 1e6:\n",
    "        return '${:,.0f}M'.format(x * 1e-6)\n",
    "    else:\n",
    "        return '${:,.0f}K'.format(x * 1e-3)\n",
    "    \n",
    "plt.gca().xaxis.set_major_formatter(FuncFormatter(currency))\n",
    "\n",
    "plt.title('Top 10 Customers by Sales', pad=15)\n",
    "plt.xlabel('Sales ($)')\n",
    "plt.ylabel('Customer Name')\n",
    "\n",
    "sns.despine()\n",
    "plt.tight_layout()\n",
    "plt.show()"
   ]
  },
  {
   "cell_type": "markdown",
   "id": "34438e72",
   "metadata": {},
   "source": [
    "-   This horizontal bar chart displays the top 10 customers ranked by total sales volume.\n",
    "\n",
    "-   **Key Insights:**\n",
    "\n",
    "-   Highest Revenue Contributors\n",
    "    - **Euro Shopping Channel** leads by a wide margin, generating nearly **$900K+** in sales.\n",
    "    - **Mini Gifts Distributors Ltd.** is second, contributing approximately **$700K+**.\n",
    "\n",
    "-   Sales Drop-Off\n",
    "    - There’s a significant gap between the **top 2 customers** and the remaining ones.\n",
    "    - Other top customers such as **Australian Collectors, Co.**, **Muscle Machine Inc**, and **La Rochelle Gifts** cluster around the **$200K mark**.\n",
    "\n",
    "-   Long Tail\n",
    "    - The bottom 5 of the top 10 still represent key business, each bringing in **$150K–$200K**, suggesting a moderately strong mid-tier customer base.\n",
    "--------"
   ]
  },
  {
   "cell_type": "markdown",
   "id": "aad575d3",
   "metadata": {},
   "source": [
    "-  Let's see how frequently customers place orders by plotting the distribution of counts per customer"
   ]
  },
  {
   "cell_type": "code",
   "execution_count": 11,
   "id": "a8f9e13e",
   "metadata": {},
   "outputs": [
    {
     "data": {
      "image/png": "[encoded data removed]",
      "text/plain": [
       "<Figure size 800x400 with 1 Axes>"
      ]
     },
     "metadata": {},
     "output_type": "display_data"
    }
   ],
   "source": [
    "# Order Frequency\n",
    "order_frequency = df['customername'].value_counts().reset_index()\n",
    "order_frequency.columns = ['customername', 'order_count']\n",
    "plt.figure(figsize=(8, 4))\n",
    "sns.histplot(\n",
    "    data=order_frequency,\n",
    "    x='order_count',\n",
    "    bins=30,\n",
    "    color='skyblue',\n",
    "    edgecolor='black',\n",
    "    weights='order_count',\n",
    "\n",
    ")\n",
    "\n",
    "plt.title('Customer Order Frequency', pad=15)\n",
    "plt.xlabel('Order Count')\n",
    "plt.ylabel('Frequency')\n",
    "\n",
    "sns.despine()\n",
    "plt.tight_layout()\n",
    "plt.show()"
   ]
  },
  {
   "cell_type": "markdown",
   "id": "7e674723",
   "metadata": {},
   "source": [
    "-   This histogram shows the distribution of customers based on how many orders they've placed.\n",
    "\n",
    "**Key Observations:**\n",
    "\n",
    "-   Majority of Customers\n",
    "    - Most customers placed between **20 and 60 orders**, with the **peak frequency around 30 orders**.\n",
    "    - These customers make up the **bulk of the customer base**, representing typical purchasing behavior.\n",
    "\n",
    "-   Outliers\n",
    "    - A small number of customers placed **extremely high numbers of orders**, with clear outliers at:\n",
    "    - ~**175 orders**\n",
    "    - ~**250 orders**\n",
    "    - These may represent **VIP customers, resellers, or subscription accounts**.\n",
    "\n",
    "-   Distribution Shape\n",
    "    - The distribution is **right-skewed**, suggesting that while most customers place a moderate number of orders, a few place significantly more.\n",
    "-----"
   ]
  }
 ],
 "metadata": {
  "kernelspec": {
   "display_name": "data_projects",
   "language": "python",
   "name": "python3"
  },
  "language_info": {
   "codemirror_mode": {
    "name": "ipython",
    "version": 3
   },
   "file_extension": ".py",
   "mimetype": "text/x-python",
   "name": "python",
   "nbconvert_exporter": "python",
   "pygments_lexer": "ipython3",
   "version": "3.12.3"
  }
 },
 "nbformat": 4,
 "nbformat_minor": 5
}
