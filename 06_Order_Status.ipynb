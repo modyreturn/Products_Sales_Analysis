{
 "cells": [
  {
   "cell_type": "code",
   "execution_count": 1,
   "id": "a858edca",
   "metadata": {},
   "outputs": [
    {
     "data": {
      "application/vnd.microsoft.datawrangler.viewer.v0+json": {
       "columns": [
        {
         "name": "index",
         "rawType": "int64",
         "type": "integer"
        },
        {
         "name": "ordernumber",
         "rawType": "int64",
         "type": "integer"
        },
        {
         "name": "quantityordered",
         "rawType": "int64",
         "type": "integer"
        },
        {
         "name": "priceeach",
         "rawType": "float64",
         "type": "float"
        },
        {
         "name": "orderlinenumber",
         "rawType": "int64",
         "type": "integer"
        },
        {
         "name": "sales",
         "rawType": "float64",
         "type": "float"
        },
        {
         "name": "orderdate",
         "rawType": "object",
         "type": "string"
        },
        {
         "name": "status",
         "rawType": "object",
         "type": "string"
        },
        {
         "name": "qtr_id",
         "rawType": "int64",
         "type": "integer"
        },
        {
         "name": "month_id",
         "rawType": "int64",
         "type": "integer"
        },
        {
         "name": "year_id",
         "rawType": "int64",
         "type": "integer"
        },
        {
         "name": "productline",
         "rawType": "object",
         "type": "string"
        },
        {
         "name": "msrp",
         "rawType": "int64",
         "type": "integer"
        },
        {
         "name": "productcode",
         "rawType": "object",
         "type": "string"
        },
        {
         "name": "customername",
         "rawType": "object",
         "type": "string"
        },
        {
         "name": "city",
         "rawType": "object",
         "type": "string"
        },
        {
         "name": "state",
         "rawType": "object",
         "type": "string"
        },
        {
         "name": "postalcode",
         "rawType": "object",
         "type": "string"
        },
        {
         "name": "country",
         "rawType": "object",
         "type": "string"
        },
        {
         "name": "territory",
         "rawType": "object",
         "type": "string"
        },
        {
         "name": "contactlastname",
         "rawType": "object",
         "type": "string"
        },
        {
         "name": "contactfirstname",
         "rawType": "object",
         "type": "string"
        },
        {
         "name": "dealsize",
         "rawType": "object",
         "type": "string"
        },
        {
         "name": "month",
         "rawType": "object",
         "type": "string"
        }
       ],
       "ref": "09d3527d-3224-486c-ba8a-95dd04cbd0f9",
       "rows": [
        [
         "0",
         "10107",
         "30",
         "95.7",
         "2",
         "2871.0",
         "2003-02-24",
         "Shipped",
         "1",
         "2",
         "2003",
         "Motorcycles",
         "95",
         "S10_1678",
         "Land of Toys Inc.",
         "NYC",
         "NY",
         "10022",
         "USA",
         "North America",
         "Yu",
         "Kwai",
         "Small",
         "February"
        ],
        [
         "1",
         "10121",
         "34",
         "81.35",
         "5",
         "2765.9",
         "2003-05-07",
         "Shipped",
         "2",
         "5",
         "2003",
         "Motorcycles",
         "95",
         "S10_1678",
         "Reims Collectables",
         "Reims",
         "Unknown",
         "51100",
         "France",
         "EMEA",
         "Henriot",
         "Paul",
         "Small",
         "May"
        ]
       ],
       "shape": {
        "columns": 23,
        "rows": 2
       }
      },
      "text/html": [
       "<div>\n",
       "<style scoped>\n",
       "    .dataframe tbody tr th:only-of-type {\n",
       "        vertical-align: middle;\n",
       "    }\n",
       "\n",
       "    .dataframe tbody tr th {\n",
       "        vertical-align: top;\n",
       "    }\n",
       "\n",
       "    .dataframe thead th {\n",
       "        text-align: right;\n",
       "    }\n",
       "</style>\n",
       "<table border=\"1\" class=\"dataframe\">\n",
       "  <thead>\n",
       "    <tr style=\"text-align: right;\">\n",
       "      <th></th>\n",
       "      <th>ordernumber</th>\n",
       "      <th>quantityordered</th>\n",
       "      <th>priceeach</th>\n",
       "      <th>orderlinenumber</th>\n",
       "      <th>sales</th>\n",
       "      <th>orderdate</th>\n",
       "      <th>status</th>\n",
       "      <th>qtr_id</th>\n",
       "      <th>month_id</th>\n",
       "      <th>year_id</th>\n",
       "      <th>...</th>\n",
       "      <th>customername</th>\n",
       "      <th>city</th>\n",
       "      <th>state</th>\n",
       "      <th>postalcode</th>\n",
       "      <th>country</th>\n",
       "      <th>territory</th>\n",
       "      <th>contactlastname</th>\n",
       "      <th>contactfirstname</th>\n",
       "      <th>dealsize</th>\n",
       "      <th>month</th>\n",
       "    </tr>\n",
       "  </thead>\n",
       "  <tbody>\n",
       "    <tr>\n",
       "      <th>0</th>\n",
       "      <td>10107</td>\n",
       "      <td>30</td>\n",
       "      <td>95.70</td>\n",
       "      <td>2</td>\n",
       "      <td>2871.0</td>\n",
       "      <td>2003-02-24</td>\n",
       "      <td>Shipped</td>\n",
       "      <td>1</td>\n",
       "      <td>2</td>\n",
       "      <td>2003</td>\n",
       "      <td>...</td>\n",
       "      <td>Land of Toys Inc.</td>\n",
       "      <td>NYC</td>\n",
       "      <td>NY</td>\n",
       "      <td>10022</td>\n",
       "      <td>USA</td>\n",
       "      <td>North America</td>\n",
       "      <td>Yu</td>\n",
       "      <td>Kwai</td>\n",
       "      <td>Small</td>\n",
       "      <td>February</td>\n",
       "    </tr>\n",
       "    <tr>\n",
       "      <th>1</th>\n",
       "      <td>10121</td>\n",
       "      <td>34</td>\n",
       "      <td>81.35</td>\n",
       "      <td>5</td>\n",
       "      <td>2765.9</td>\n",
       "      <td>2003-05-07</td>\n",
       "      <td>Shipped</td>\n",
       "      <td>2</td>\n",
       "      <td>5</td>\n",
       "      <td>2003</td>\n",
       "      <td>...</td>\n",
       "      <td>Reims Collectables</td>\n",
       "      <td>Reims</td>\n",
       "      <td>Unknown</td>\n",
       "      <td>51100</td>\n",
       "      <td>France</td>\n",
       "      <td>EMEA</td>\n",
       "      <td>Henriot</td>\n",
       "      <td>Paul</td>\n",
       "      <td>Small</td>\n",
       "      <td>May</td>\n",
       "    </tr>\n",
       "  </tbody>\n",
       "</table>\n",
       "<p>2 rows × 23 columns</p>\n",
       "</div>"
      ],
      "text/plain": [
       "   ordernumber  quantityordered  priceeach  orderlinenumber   sales  \\\n",
       "0        10107               30      95.70                2  2871.0   \n",
       "1        10121               34      81.35                5  2765.9   \n",
       "\n",
       "    orderdate   status  qtr_id  month_id  year_id  ...        customername  \\\n",
       "0  2003-02-24  Shipped       1         2     2003  ...   Land of Toys Inc.   \n",
       "1  2003-05-07  Shipped       2         5     2003  ...  Reims Collectables   \n",
       "\n",
       "    city    state postalcode country      territory contactlastname  \\\n",
       "0    NYC       NY      10022     USA  North America              Yu   \n",
       "1  Reims  Unknown      51100  France           EMEA         Henriot   \n",
       "\n",
       "  contactfirstname dealsize     month  \n",
       "0             Kwai    Small  February  \n",
       "1             Paul    Small       May  \n",
       "\n",
       "[2 rows x 23 columns]"
      ]
     },
     "execution_count": 1,
     "metadata": {},
     "output_type": "execute_result"
    }
   ],
   "source": [
    "import pandas as pd\n",
    "import numpy as np\n",
    "import matplotlib.pyplot as plt\n",
    "import seaborn as sns\n",
    "from matplotlib.ticker import FuncFormatter\n",
    "\n",
    "import warnings\n",
    "warnings.filterwarnings('ignore')\n",
    "\n",
    "df = pd.read_csv(r'C:\\Users\\Mohamed Fawzi\\Desktop\\Product Sales Analysis\\sales_data_cleaned.csv')\n",
    "\n",
    "df.head(2)"
   ]
  },
  {
   "cell_type": "code",
   "execution_count": 2,
   "id": "e0bf5bcb",
   "metadata": {},
   "outputs": [],
   "source": [
    "df['orderdate'] = pd.to_datetime(df['orderdate'])\n",
    "#df.info()"
   ]
  },
  {
   "cell_type": "markdown",
   "id": "fd72eca0",
   "metadata": {},
   "source": [
    "-  Now I will use pie chart to show the proportion of each order status relative to the total number of orders. This will help us to understand the current state of orders such as how many are shipped, pending or cancelled."
   ]
  },
  {
   "cell_type": "code",
   "execution_count": 5,
   "id": "03263cf2",
   "metadata": {},
   "outputs": [
    {
     "data": {
      "image/png": "[encoded data removed]",
      "text/plain": [
       "<Figure size 800x400 with 1 Axes>"
      ]
     },
     "metadata": {},
     "output_type": "display_data"
    }
   ],
   "source": [
    "# Status Distribution\n",
    "status_distribution = df['status'].value_counts().reset_index()\n",
    "#status_distribution.columns = ['status', 'count']\n",
    "\n",
    "plt.figure(figsize=(8, 4))\n",
    "plt.pie(\n",
    "    status_distribution['count'],\n",
    "    labels=status_distribution['status'],\n",
    "    autopct='%1.1f%%',\n",
    "\n",
    ")\n",
    "\n",
    "plt.tight_layout()\n",
    "plt.show()\n"
   ]
  },
  {
   "cell_type": "markdown",
   "id": "380b879b",
   "metadata": {},
   "source": [
    "### Key Findings:\n",
    "\n",
    "- **Shipped**:  \n",
    "  - Dominates the distribution with **92.7%** of all orders.  \n",
    "  - Indicates highly efficient fulfillment and delivery processes.\n",
    "\n",
    "- **Other Statuses**:  \n",
    "  - **Cancelled**: ~2.1% — relatively low, suggesting good order accuracy.  \n",
    "  - **Resolved**: ~1.1% — issues addressed effectively.  \n",
    "  - **On Hold**: ~1.0% — potential minor delays or pending issues.  \n",
    "  - **In Process**: ~1.5% — active handling of some orders.  \n",
    "  - **Disputed**: ~0.5% — minimal disputes, reflecting customer satisfaction.\n",
    "\n",
    "-----"
   ]
  },
  {
   "cell_type": "markdown",
   "id": "0bdfdc36",
   "metadata": {},
   "source": [
    "-   Now, I want to see the total revenue is actually realized versus how much is tied up in orders that may be at risk of cancellation or dispute."
   ]
  },
  {
   "cell_type": "code",
   "execution_count": 27,
   "id": "c03c67a0",
   "metadata": {},
   "outputs": [
    {
     "data": {
      "image/png": "[encoded data removed]",
      "text/plain": [
       "<Figure size 800x400 with 1 Axes>"
      ]
     },
     "metadata": {},
     "output_type": "display_data"
    }
   ],
   "source": [
    "plt.figure(figsize=(8, 4))\n",
    "\n",
    "ax = sns.barplot(\n",
    "    data=sales_by_status,\n",
    "    x='status',\n",
    "    y='sales',\n",
    "    palette='Blues_r',\n",
    "    edgecolor='black'\n",
    ")\n",
    "\n",
    "#plt.gca().yaxis.set_major_formatter(FuncFormatter(currency))\n",
    "\n",
    "for container in ax.containers:\n",
    "    labels = [f'${float(v.get_height()):,}' for v in container]\n",
    "    ax.bar_label(container, labels=labels, padding=3)\n",
    "\n",
    "\n",
    "plt.title('Sales by Status', pad=15)\n",
    "plt.xlabel('Status')\n",
    "ax.set_yticks([])  # Removes y-ticks\n",
    "plt.ylabel('')\n",
    "\n",
    "sns.despine(left=True)\n",
    "plt.tight_layout()\n",
    "plt.show()\n"
   ]
  },
  {
   "cell_type": "markdown",
   "id": "be51013f",
   "metadata": {},
   "source": [
    "## Insights:\n",
    "\n",
    "- **Shipped orders dominate revenue**, confirming a **well-functioning sales pipeline**.\n",
    "- The relatively **small financial impact** from **Cancelled** and **Disputed** orders suggests **low revenue leakage** due to operational or customer service issues.\n",
    "- Continued monitoring of **On Hold** and **In Process** orders is advisable to avoid potential delays in revenue recognition.\n",
    "\n",
    "-----"
   ]
  }
 ],
 "metadata": {
  "kernelspec": {
   "display_name": "data_projects",
   "language": "python",
   "name": "python3"
  },
  "language_info": {
   "codemirror_mode": {
    "name": "ipython",
    "version": 3
   },
   "file_extension": ".py",
   "mimetype": "text/x-python",
   "name": "python",
   "nbconvert_exporter": "python",
   "pygments_lexer": "ipython3",
   "version": "3.12.3"
  }
 },
 "nbformat": 4,
 "nbformat_minor": 5
}
