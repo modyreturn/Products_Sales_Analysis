{
 "cells": [
  {
   "cell_type": "code",
   "execution_count": 2,
   "id": "a858edca",
   "metadata": {},
   "outputs": [
    {
     "data": {
      "application/vnd.microsoft.datawrangler.viewer.v0+json": {
       "columns": [
        {
         "name": "index",
         "rawType": "int64",
         "type": "integer"
        },
        {
         "name": "ordernumber",
         "rawType": "int64",
         "type": "integer"
        },
        {
         "name": "quantityordered",
         "rawType": "int64",
         "type": "integer"
        },
        {
         "name": "priceeach",
         "rawType": "float64",
         "type": "float"
        },
        {
         "name": "orderlinenumber",
         "rawType": "int64",
         "type": "integer"
        },
        {
         "name": "sales",
         "rawType": "float64",
         "type": "float"
        },
        {
         "name": "orderdate",
         "rawType": "object",
         "type": "string"
        },
        {
         "name": "status",
         "rawType": "object",
         "type": "string"
        },
        {
         "name": "qtr_id",
         "rawType": "int64",
         "type": "integer"
        },
        {
         "name": "month_id",
         "rawType": "int64",
         "type": "integer"
        },
        {
         "name": "year_id",
         "rawType": "int64",
         "type": "integer"
        },
        {
         "name": "productline",
         "rawType": "object",
         "type": "string"
        },
        {
         "name": "msrp",
         "rawType": "int64",
         "type": "integer"
        },
        {
         "name": "productcode",
         "rawType": "object",
         "type": "string"
        },
        {
         "name": "customername",
         "rawType": "object",
         "type": "string"
        },
        {
         "name": "city",
         "rawType": "object",
         "type": "string"
        },
        {
         "name": "state",
         "rawType": "object",
         "type": "string"
        },
        {
         "name": "postalcode",
         "rawType": "object",
         "type": "string"
        },
        {
         "name": "country",
         "rawType": "object",
         "type": "string"
        },
        {
         "name": "territory",
         "rawType": "object",
         "type": "string"
        },
        {
         "name": "contactlastname",
         "rawType": "object",
         "type": "string"
        },
        {
         "name": "contactfirstname",
         "rawType": "object",
         "type": "string"
        },
        {
         "name": "dealsize",
         "rawType": "object",
         "type": "string"
        },
        {
         "name": "month",
         "rawType": "object",
         "type": "string"
        }
       ],
       "ref": "266d090a-eb30-4a48-a1a0-b2d7e282c4d8",
       "rows": [
        [
         "0",
         "10107",
         "30",
         "95.7",
         "2",
         "2871.0",
         "2003-02-24",
         "Shipped",
         "1",
         "2",
         "2003",
         "Motorcycles",
         "95",
         "S10_1678",
         "Land of Toys Inc.",
         "NYC",
         "NY",
         "10022",
         "USA",
         "North America",
         "Yu",
         "Kwai",
         "Small",
         "February"
        ],
        [
         "1",
         "10121",
         "34",
         "81.35",
         "5",
         "2765.9",
         "2003-05-07",
         "Shipped",
         "2",
         "5",
         "2003",
         "Motorcycles",
         "95",
         "S10_1678",
         "Reims Collectables",
         "Reims",
         "Unknown",
         "51100",
         "France",
         "EMEA",
         "Henriot",
         "Paul",
         "Small",
         "May"
        ]
       ],
       "shape": {
        "columns": 23,
        "rows": 2
       }
      },
      "text/html": [
       "<div>\n",
       "<style scoped>\n",
       "    .dataframe tbody tr th:only-of-type {\n",
       "        vertical-align: middle;\n",
       "    }\n",
       "\n",
       "    .dataframe tbody tr th {\n",
       "        vertical-align: top;\n",
       "    }\n",
       "\n",
       "    .dataframe thead th {\n",
       "        text-align: right;\n",
       "    }\n",
       "</style>\n",
       "<table border=\"1\" class=\"dataframe\">\n",
       "  <thead>\n",
       "    <tr style=\"text-align: right;\">\n",
       "      <th></th>\n",
       "      <th>ordernumber</th>\n",
       "      <th>quantityordered</th>\n",
       "      <th>priceeach</th>\n",
       "      <th>orderlinenumber</th>\n",
       "      <th>sales</th>\n",
       "      <th>orderdate</th>\n",
       "      <th>status</th>\n",
       "      <th>qtr_id</th>\n",
       "      <th>month_id</th>\n",
       "      <th>year_id</th>\n",
       "      <th>...</th>\n",
       "      <th>customername</th>\n",
       "      <th>city</th>\n",
       "      <th>state</th>\n",
       "      <th>postalcode</th>\n",
       "      <th>country</th>\n",
       "      <th>territory</th>\n",
       "      <th>contactlastname</th>\n",
       "      <th>contactfirstname</th>\n",
       "      <th>dealsize</th>\n",
       "      <th>month</th>\n",
       "    </tr>\n",
       "  </thead>\n",
       "  <tbody>\n",
       "    <tr>\n",
       "      <th>0</th>\n",
       "      <td>10107</td>\n",
       "      <td>30</td>\n",
       "      <td>95.70</td>\n",
       "      <td>2</td>\n",
       "      <td>2871.0</td>\n",
       "      <td>2003-02-24</td>\n",
       "      <td>Shipped</td>\n",
       "      <td>1</td>\n",
       "      <td>2</td>\n",
       "      <td>2003</td>\n",
       "      <td>...</td>\n",
       "      <td>Land of Toys Inc.</td>\n",
       "      <td>NYC</td>\n",
       "      <td>NY</td>\n",
       "      <td>10022</td>\n",
       "      <td>USA</td>\n",
       "      <td>North America</td>\n",
       "      <td>Yu</td>\n",
       "      <td>Kwai</td>\n",
       "      <td>Small</td>\n",
       "      <td>February</td>\n",
       "    </tr>\n",
       "    <tr>\n",
       "      <th>1</th>\n",
       "      <td>10121</td>\n",
       "      <td>34</td>\n",
       "      <td>81.35</td>\n",
       "      <td>5</td>\n",
       "      <td>2765.9</td>\n",
       "      <td>2003-05-07</td>\n",
       "      <td>Shipped</td>\n",
       "      <td>2</td>\n",
       "      <td>5</td>\n",
       "      <td>2003</td>\n",
       "      <td>...</td>\n",
       "      <td>Reims Collectables</td>\n",
       "      <td>Reims</td>\n",
       "      <td>Unknown</td>\n",
       "      <td>51100</td>\n",
       "      <td>France</td>\n",
       "      <td>EMEA</td>\n",
       "      <td>Henriot</td>\n",
       "      <td>Paul</td>\n",
       "      <td>Small</td>\n",
       "      <td>May</td>\n",
       "    </tr>\n",
       "  </tbody>\n",
       "</table>\n",
       "<p>2 rows × 23 columns</p>\n",
       "</div>"
      ],
      "text/plain": [
       "   ordernumber  quantityordered  priceeach  orderlinenumber   sales  \\\n",
       "0        10107               30      95.70                2  2871.0   \n",
       "1        10121               34      81.35                5  2765.9   \n",
       "\n",
       "    orderdate   status  qtr_id  month_id  year_id  ...        customername  \\\n",
       "0  2003-02-24  Shipped       1         2     2003  ...   Land of Toys Inc.   \n",
       "1  2003-05-07  Shipped       2         5     2003  ...  Reims Collectables   \n",
       "\n",
       "    city    state postalcode country      territory contactlastname  \\\n",
       "0    NYC       NY      10022     USA  North America              Yu   \n",
       "1  Reims  Unknown      51100  France           EMEA         Henriot   \n",
       "\n",
       "  contactfirstname dealsize     month  \n",
       "0             Kwai    Small  February  \n",
       "1             Paul    Small       May  \n",
       "\n",
       "[2 rows x 23 columns]"
      ]
     },
     "execution_count": 2,
     "metadata": {},
     "output_type": "execute_result"
    }
   ],
   "source": [
    "import pandas as pd\n",
    "import numpy as np\n",
    "import matplotlib.pyplot as plt\n",
    "import seaborn as sns\n",
    "from matplotlib.ticker import FuncFormatter\n",
    "\n",
    "import warnings\n",
    "warnings.filterwarnings('ignore')\n",
    "\n",
    "df = pd.read_csv(r'C:\\Users\\Mohamed Fawzi\\Desktop\\Product Sales Analysis\\sales_data_cleaned.csv')\n",
    "\n",
    "df.head(2)"
   ]
  },
  {
   "cell_type": "code",
   "execution_count": 3,
   "id": "e0bf5bcb",
   "metadata": {},
   "outputs": [],
   "source": [
    "df['orderdate'] = pd.to_datetime(df['orderdate'])\n",
    "#df.info()"
   ]
  },
  {
   "cell_type": "markdown",
   "id": "224fcd92",
   "metadata": {},
   "source": [
    "-   Now I will generate a correlation heatmap showing the relationships between the price of each unit, the orders quantity, and sales to see how strongly each pair is related."
   ]
  },
  {
   "cell_type": "code",
   "execution_count": 5,
   "id": "02e0edd4",
   "metadata": {},
   "outputs": [
    {
     "data": {
      "image/png": "[encoded data removed]",
      "text/plain": [
       "<Figure size 800x400 with 2 Axes>"
      ]
     },
     "metadata": {},
     "output_type": "display_data"
    }
   ],
   "source": [
    "numerical_columns = ['priceeach', 'quantityordered', 'sales']\n",
    "plt.figure(figsize=(8, 4))\n",
    "sns.heatmap(\n",
    "    data=df[numerical_columns].corr(),\n",
    "    annot=True,\n",
    "    cmap='coolwarm',\n",
    "    linewidths=0.5,\n",
    "    fmt='.2f',\n",
    ")\n",
    "\n",
    "plt.title('Correlation Analysis', pad=15)\n",
    "\n",
    "sns.despine()\n",
    "plt.tight_layout()\n",
    "plt.show()"
   ]
  },
  {
   "cell_type": "markdown",
   "id": "c763935d",
   "metadata": {},
   "source": [
    "-   This heatmap illustrates the **strength and direction of linear relationships** between key sales variables.\n",
    "\n",
    "-   Key Correlation Values:\n",
    "\n",
    "    | Variable Pair                | Correlation |\n",
    "    | ---------------------------- | ----------- |\n",
    "    | **Price Each ↔ Sales**       | **0.66** → **moderate positive** relationship. Higher unit prices generally lead to higher total sales.\n",
    "    | **Quantity Ordered ↔ Sales** | **0.55** → **moderate positive** relationship. Larger order quantities contribute to greater sales.\n",
    "    | **Price Each ↔ Quantity Ordered** | **0.01** → **no correlation**. Product price does not significantly influence quantity ordered.\n",
    "\n",
    "-   Insights:\n",
    "\n",
    "    - **Sales are driven by both price and quantity**, but **price** has a **slightly stronger impact**.\n",
    "    - The **lack of correlation** between **price** and **quantity ordered** suggests that **purchasing decisions** might be **price inelastic** — customers buy similar quantities regardless of price changes.\n",
    "    - Marketing strategies could focus on **bundling or volume incentives** to leverage the moderate quantity-sales relationship.\n",
    "\n",
    "---\n"
   ]
  }
 ],
 "metadata": {
  "kernelspec": {
   "display_name": "data_projects",
   "language": "python",
   "name": "python3"
  },
  "language_info": {
   "codemirror_mode": {
    "name": "ipython",
    "version": 3
   },
   "file_extension": ".py",
   "mimetype": "text/x-python",
   "name": "python",
   "nbconvert_exporter": "python",
   "pygments_lexer": "ipython3",
   "version": "3.12.3"
  }
 },
 "nbformat": 4,
 "nbformat_minor": 5
}
